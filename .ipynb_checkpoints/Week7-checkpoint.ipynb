{
 "cells": [
  {
   "cell_type": "code",
   "execution_count": 1,
   "id": "ad34b687-6145-4aed-ac0f-6b7c89055400",
   "metadata": {},
   "outputs": [
    {
     "name": "stdout",
     "output_type": "stream",
     "text": [
      "[0, 1, 4, 9, 16]\n"
     ]
    }
   ],
   "source": [
    "\n",
    "arr = [x**2 for x in range(5)]\n",
    "print(arr)\n"
   ]
  },
  {
   "cell_type": "code",
   "execution_count": 2,
   "id": "8f6a03d6-5fba-48c1-9823-238db5265159",
   "metadata": {},
   "outputs": [
    {
     "name": "stdout",
     "output_type": "stream",
     "text": [
      "<generator object <genexpr> at 0x000002B5AE4D0EB0>\n"
     ]
    }
   ],
   "source": [
    "arrg = (x**2 for x in range(5))\n",
    "print(arrg)"
   ]
  },
  {
   "cell_type": "code",
   "execution_count": 3,
   "id": "e4205c0b-361e-4729-8060-805de2583709",
   "metadata": {},
   "outputs": [
    {
     "name": "stdout",
     "output_type": "stream",
     "text": [
      "0\n",
      "1\n",
      "4\n",
      "9\n",
      "16\n"
     ]
    }
   ],
   "source": [
    "for value in arrg:\n",
    "    print(value)"
   ]
  },
  {
   "cell_type": "code",
   "execution_count": 5,
   "id": "d22b7e3b-76b4-454e-952d-4c0d2f9c91dc",
   "metadata": {},
   "outputs": [
    {
     "name": "stdout",
     "output_type": "stream",
     "text": [
      "\n",
      "Các giá trị còn lại từ generator:\n"
     ]
    },
    {
     "ename": "NameError",
     "evalue": "name 'generator_chia_het_3' is not defined",
     "output_type": "error",
     "traceback": [
      "\u001b[1;31m---------------------------------------------------------------------------\u001b[0m",
      "\u001b[1;31mNameError\u001b[0m                                 Traceback (most recent call last)",
      "Cell \u001b[1;32mIn[5], line 6\u001b[0m\n\u001b[0;32m      4\u001b[0m \u001b[38;5;66;03m# Để kiểm tra các giá trị còn lại (tùy chọn)\u001b[39;00m\n\u001b[0;32m      5\u001b[0m \u001b[38;5;28mprint\u001b[39m(\u001b[38;5;124m\"\u001b[39m\u001b[38;5;130;01m\\n\u001b[39;00m\u001b[38;5;124mCác giá trị còn lại từ generator:\u001b[39m\u001b[38;5;124m\"\u001b[39m)\n\u001b[1;32m----> 6\u001b[0m \u001b[38;5;28;01mfor\u001b[39;00m gia_tri \u001b[38;5;129;01min\u001b[39;00m \u001b[43mgenerator_chia_het_3\u001b[49m:\n\u001b[0;32m      7\u001b[0m     \u001b[38;5;28mprint\u001b[39m(gia_tri)\n",
      "\u001b[1;31mNameError\u001b[0m: name 'generator_chia_het_3' is not defined"
     ]
    }
   ],
   "source": [
    "\n",
    "g3 = (x for x in range(16) if x % 3 == 0)\n",
    "\n",
    "\n",
    "# Để kiểm tra các giá trị còn lại (tùy chọn)\n",
    "print(\"\\nCác giá trị còn lại từ generator:\")\n",
    "for v in g3:\n",
    "    printvv)"
   ]
  },
  {
   "cell_type": "code",
   "execution_count": 6,
   "id": "aa4205f9-002f-4570-804e-0b24eda52fab",
   "metadata": {},
   "outputs": [],
   "source": [
    "# Sử dụng next() để lấy 2 giá trị đầu tiên\n",
    "f1 = next(g3)\n",
    "s2 = next(g3)\n"
   ]
  },
  {
   "cell_type": "code",
   "execution_count": 4,
   "id": "ac8effac-ae6f-4c58-b7b0-8023d2f9ab9a",
   "metadata": {},
   "outputs": [
    {
     "ename": "NameError",
     "evalue": "name 'f1' is not defined",
     "output_type": "error",
     "traceback": [
      "\u001b[1;31m---------------------------------------------------------------------------\u001b[0m",
      "\u001b[1;31mNameError\u001b[0m                                 Traceback (most recent call last)",
      "Cell \u001b[1;32mIn[4], line 1\u001b[0m\n\u001b[1;32m----> 1\u001b[0m \u001b[38;5;28mprint\u001b[39m(\u001b[43mf1\u001b[49m)\n",
      "\u001b[1;31mNameError\u001b[0m: name 'f1' is not defined"
     ]
    }
   ],
   "source": [
    "print(f1)"
   ]
  },
  {
   "cell_type": "code",
   "execution_count": null,
   "id": "6acb4efe-d448-4a1c-a6bd-02d1a81affe8",
   "metadata": {},
   "outputs": [],
   "source": []
  },
  {
   "cell_type": "code",
   "execution_count": null,
   "id": "4fa8a6b0-d57a-4025-94fa-ab37cb07d396",
   "metadata": {},
   "outputs": [],
   "source": []
  },
  {
   "cell_type": "code",
   "execution_count": null,
   "id": "6523b90c-36c8-4a2f-b762-1b626629fa3c",
   "metadata": {},
   "outputs": [],
   "source": []
  }
 ],
 "metadata": {
  "kernelspec": {
   "display_name": "python3_9",
   "language": "python",
   "name": "python3_9"
  },
  "language_info": {
   "codemirror_mode": {
    "name": "ipython",
    "version": 3
   },
   "file_extension": ".py",
   "mimetype": "text/x-python",
   "name": "python",
   "nbconvert_exporter": "python",
   "pygments_lexer": "ipython3",
   "version": "3.9.21"
  }
 },
 "nbformat": 4,
 "nbformat_minor": 5
}
