{
 "cells": [
  {
   "cell_type": "markdown",
   "id": "40e04053-f8c9-4e80-b3fa-8a882da9e083",
   "metadata": {},
   "source": [
    "Bài 1: Đảo ngược mảng"
   ]
  },
  {
   "cell_type": "code",
   "execution_count": null,
   "id": "9b079a56-df30-409d-a230-a94082034a45",
   "metadata": {},
   "outputs": [],
   "source": [
    "def reverse_array(arr):\n",
    "    return arr[::-1]\n",
    "\n",
    "arr = [1, 2, 3, 4, 5]\n",
    "print(reverse_array(arr))  # Output: [5, 4, 3, 2, 1]\n"
   ]
  },
  {
   "cell_type": "markdown",
   "id": "67139f0b-928a-43a1-a12a-edc6cd2b3927",
   "metadata": {},
   "source": [
    "Bài 2: Tìm số lớn thứ hai trong mảng\n",
    "python\n"
   ]
  },
  {
   "cell_type": "code",
   "execution_count": 8,
   "id": "cf2d8295-74fd-4975-8a7a-82805a23af3f",
   "metadata": {},
   "outputs": [
    {
     "name": "stdout",
     "output_type": "stream",
     "text": [
      "45\n"
     ]
    }
   ],
   "source": [
    "\n",
    "def second_largest(arr):\n",
    "    first = second = float('-inf')\n",
    "    for num in arr:\n",
    "        if num > first:\n",
    "            second = first\n",
    "            first = num\n",
    "        elif second < num < first:\n",
    "            second = num\n",
    "    return second if second != float('-inf') else None\n",
    "\n",
    "arr = [10, 20, 4, 45, 99, 99]\n",
    "print(second_largest(arr))  # Output: 45\n"
   ]
  },
  {
   "cell_type": "markdown",
   "id": "3c9e64ed-b1f2-4db2-9b35-c4103f4187bf",
   "metadata": {},
   "source": [
    "Bài 3: Xóa phần tử trùng lặp trong mảng\n",
    "python"
   ]
  },
  {
   "cell_type": "code",
   "execution_count": 12,
   "id": "dd07d0ec-d209-42f4-918c-bbb163a1f4ab",
   "metadata": {},
   "outputs": [
    {
     "name": "stdout",
     "output_type": "stream",
     "text": [
      "[1, 2, 3, 4, 5]\n"
     ]
    }
   ],
   "source": [
    "def remove_duplicates(arr):\n",
    "    return list(set(arr))\n",
    "\n",
    "arr = [1, 2, 2, 3, 4, 4, 5]\n",
    "print(remove_duplicates(arr))  # Output: [1, 2, 3, 4, 5]\n"
   ]
  },
  {
   "cell_type": "markdown",
   "id": "79483c6b-398c-4fbd-a903-7119f2c5bd3a",
   "metadata": {},
   "source": [
    "2. Linked List (Danh sách liên kết)\n",
    "Bài 4: Triển khai danh sách liên kết đơn bằng class"
   ]
  },
  {
   "cell_type": "code",
   "execution_count": 15,
   "id": "c052434a-98b3-4a97-b31b-e9f1f10321b8",
   "metadata": {},
   "outputs": [
    {
     "name": "stdout",
     "output_type": "stream",
     "text": [
      "1 -> 2 -> 3 -> None\n"
     ]
    }
   ],
   "source": [
    "class Node:\n",
    "    def __init__(self, data):\n",
    "        self.data = data\n",
    "        self.next = None\n",
    "\n",
    "class LinkedList:\n",
    "    def __init__(self):\n",
    "        self.head = None\n",
    "\n",
    "    def append(self, data):\n",
    "        if not self.head:\n",
    "            self.head = Node(data)\n",
    "            return\n",
    "        curr = self.head\n",
    "        while curr.next:\n",
    "            curr = curr.next\n",
    "        curr.next = Node(data)\n",
    "\n",
    "    def display(self):\n",
    "        curr = self.head\n",
    "        while curr:\n",
    "            print(curr.data, end=\" -> \")\n",
    "            curr = curr.next\n",
    "        print(\"None\")\n",
    "\n",
    "# Test\n",
    "ll = LinkedList()\n",
    "ll.append(1)\n",
    "ll.append(2)\n",
    "ll.append(3)\n",
    "ll.display()  # Output: 1 -> 2 -> 3 -> None\n"
   ]
  },
  {
   "cell_type": "markdown",
   "id": "ef0ed27e-e2cd-4a79-9c02-171b36b0a1bf",
   "metadata": {},
   "source": [
    "Triển khai Min-Heap bằng Python"
   ]
  },
  {
   "cell_type": "code",
   "execution_count": 22,
   "id": "eebcd233-5c13-43af-8393-e16d149b787d",
   "metadata": {},
   "outputs": [
    {
     "name": "stdout",
     "output_type": "stream",
     "text": [
      "1\n"
     ]
    }
   ],
   "source": [
    "import heapq\n",
    "\n",
    "min_heap = []\n",
    "heapq.heappush(min_heap, 3)\n",
    "heapq.heappush(min_heap, 1)\n",
    "heapq.heappush(min_heap, 4)\n",
    "\n",
    "print(heapq.heappop(min_heap))  # Output: 1 (phần tử nhỏ nhất)\n"
   ]
  },
  {
   "cell_type": "markdown",
   "id": "798974fc-2857-4bd1-87db-18cbf61ac495",
   "metadata": {},
   "source": [
    "Sắp xếp mảng bằng Heap Sort"
   ]
  },
  {
   "cell_type": "code",
   "execution_count": 26,
   "id": "5452fad8-136e-46fe-95c8-62af231d2d95",
   "metadata": {},
   "outputs": [
    {
     "name": "stdout",
     "output_type": "stream",
     "text": [
      "[1, 2, 3, 5, 8]\n"
     ]
    }
   ],
   "source": [
    "import heapq\n",
    "\n",
    "def heap_sort(arr):\n",
    "    heapq.heapify(arr)\n",
    "    return [heapq.heappop(arr) for _ in range(len(arr))]\n",
    "\n",
    "arr = [5, 3, 8, 1, 2]\n",
    "print(heap_sort(arr))  # Output: [1, 2, 3, 5, 8]\n"
   ]
  },
  {
   "cell_type": "markdown",
   "id": "4f858a69-b50d-48b3-bf89-2687d1bc4891",
   "metadata": {},
   "source": [
    "Triển khai Stack bằng danh sách Python"
   ]
  },
  {
   "cell_type": "code",
   "execution_count": 28,
   "id": "a805eed4-8d05-4325-9fa3-fce31c912072",
   "metadata": {},
   "outputs": [
    {
     "name": "stdout",
     "output_type": "stream",
     "text": [
      "3\n",
      "[1, 2]\n"
     ]
    }
   ],
   "source": [
    "class Stack:\n",
    "    def __init__(self):\n",
    "        self.stack = []\n",
    "\n",
    "    def push(self, item):\n",
    "        self.stack.append(item)\n",
    "\n",
    "    def pop(self):\n",
    "        return self.stack.pop() if self.stack else None\n",
    "\n",
    "    def peek(self):\n",
    "        return self.stack[-1] if self.stack else None\n",
    "\n",
    "    def is_empty(self):\n",
    "        return len(self.stack) == 0\n",
    "\n",
    "    def display(self):\n",
    "        print(self.stack)\n",
    "\n",
    "# Test\n",
    "s = Stack()\n",
    "s.push(1)\n",
    "s.push(2)\n",
    "s.push(3)\n",
    "print(s.pop())  # Output: 3\n",
    "s.display()  # Output: [1, 2]\n"
   ]
  },
  {
   "cell_type": "markdown",
   "id": "b01ddc00-799b-43bc-8da0-2f8df1fc3921",
   "metadata": {},
   "source": [
    "Bài 8: Triển khai Queue bằng collections.deque\n",
    "python\n",
    "\n"
   ]
  },
  {
   "cell_type": "code",
   "execution_count": 33,
   "id": "3a4812bb-ae67-4d3f-ba2a-070ae4200e02",
   "metadata": {},
   "outputs": [
    {
     "name": "stdout",
     "output_type": "stream",
     "text": [
      "1\n",
      "deque([2, 3])\n"
     ]
    }
   ],
   "source": [
    "from collections import deque\n",
    "\n",
    "queue = deque()\n",
    "queue.append(1)\n",
    "queue.append(2)\n",
    "queue.append(3)\n",
    "print(queue.popleft())  # Output: 1\n",
    "print(queue)  # Output: deque([2, 3])\n"
   ]
  },
  {
   "cell_type": "markdown",
   "id": "6d406e25-dec1-4fbb-9828-6713d55bdc11",
   "metadata": {},
   "source": [
    "Bài 9: Triển khai Hash Table bằng dictionary Python\n",
    "python\n"
   ]
  },
  {
   "cell_type": "code",
   "execution_count": 37,
   "id": "bb76c587-4b31-4b0b-8aa4-6ed25037eb1f",
   "metadata": {},
   "outputs": [
    {
     "name": "stdout",
     "output_type": "stream",
     "text": [
      "Alice\n",
      "25\n"
     ]
    }
   ],
   "source": [
    "hash_table = {}\n",
    "hash_table[\"name\"] = \"Alice\"\n",
    "hash_table[\"age\"] = 25\n",
    "\n",
    "print(hash_table[\"name\"])  # Output: Alice\n",
    "print(hash_table.get(\"age\"))  # Output: 25\n"
   ]
  },
  {
   "cell_type": "markdown",
   "id": "126110f6-fb4b-4a2e-a063-21ab4d2761b7",
   "metadata": {},
   "source": [
    "Bài 10: Tìm số có tần suất xuất hiện nhiều nhất trong mảng\n",
    "python\n",
    "\n"
   ]
  },
  {
   "cell_type": "code",
   "execution_count": 41,
   "id": "6abe4930-b640-445a-b9a8-9834cf23daa4",
   "metadata": {},
   "outputs": [
    {
     "name": "stdout",
     "output_type": "stream",
     "text": [
      "2\n"
     ]
    }
   ],
   "source": [
    "from collections import Counter\n",
    "\n",
    "def most_frequent(arr):\n",
    "    freq = Counter(arr)\n",
    "    return max(freq, key=freq.get)\n",
    "\n",
    "arr = [1, 3, 2, 3, 4, 3, 5, 2, 2, 2]\n",
    "print(most_frequent(arr))  # Output: 2\n"
   ]
  },
  {
   "cell_type": "code",
   "execution_count": null,
   "id": "7416b1d5-571a-4d49-a105-1085134705cd",
   "metadata": {},
   "outputs": [],
   "source": []
  },
  {
   "cell_type": "code",
   "execution_count": 3,
   "id": "812325ff-e7d3-4a6e-be4a-a60cd37ea503",
   "metadata": {},
   "outputs": [
    {
     "name": "stdout",
     "output_type": "stream",
     "text": [
      "45\n"
     ]
    }
   ],
   "source": [
    "def second_largest(arr):\n",
    "    if len(arr) < 2:\n",
    "        return None \n",
    "    \n",
    "    first, second = None, None\n",
    "\n",
    "    for num in arr:\n",
    "        if first is None or num > first:\n",
    "            second = first\n",
    "            first = num\n",
    "        elif num != first and (second is None or num > second):\n",
    "            second = num\n",
    "\n",
    "    return second\n",
    "\n",
    "arr = [10, 20, 4, 45, 99, 99]\n",
    "print(second_largest(arr))  # Output: 45\n"
   ]
  }
 ],
 "metadata": {
  "kernelspec": {
   "display_name": "Python [conda env:base] *",
   "language": "python",
   "name": "conda-base-py"
  },
  "language_info": {
   "codemirror_mode": {
    "name": "ipython",
    "version": 3
   },
   "file_extension": ".py",
   "mimetype": "text/x-python",
   "name": "python",
   "nbconvert_exporter": "python",
   "pygments_lexer": "ipython3",
   "version": "3.12.7"
  }
 },
 "nbformat": 4,
 "nbformat_minor": 5
}
