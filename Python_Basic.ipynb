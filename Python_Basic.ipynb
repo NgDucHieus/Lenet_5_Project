{
 "cells": [
  {
   "cell_type": "code",
   "execution_count": 5,
   "id": "09d044ca-3160-4561-ab4b-c68107cbbc5f",
   "metadata": {},
   "outputs": [
    {
     "name": "stdin",
     "output_type": "stream",
     "text": [
      "Nhập vào một số nguyên:  10\n"
     ]
    },
    {
     "name": "stdout",
     "output_type": "stream",
     "text": [
      "Số dương\n",
      "10\n"
     ]
    }
   ],
   "source": [
    "# Kiểm tra số nguyên âm, dương hoặc 0\n",
    "num = int(input(\"Nhập vào một số nguyên: \"))\n",
    "if num > 0:\n",
    "    print(\"Số dương\")\n",
    "elif num < 0:\n",
    "    print(\"Số âm\")\n",
    "else:\n",
    "    print(\"Số bằng 0\")\n",
    "print(num)\n"
   ]
  },
  {
   "cell_type": "code",
   "execution_count": 6,
   "id": "da312957-3933-49d7-adb8-6fa0bd9ebc12",
   "metadata": {},
   "outputs": [
    {
     "name": "stdin",
     "output_type": "stream",
     "text": [
      "Nhập tuổi:  10\n"
     ]
    },
    {
     "name": "stdout",
     "output_type": "stream",
     "text": [
      "Minor\n"
     ]
    }
   ],
   "source": [
    "\n",
    "age = int(input(\"Nhập tuổi: \"))\n",
    "print(\"Adult\" if age >= 18 else \"Minor\")\n"
   ]
  },
  {
   "cell_type": "code",
   "execution_count": 7,
   "id": "41fcd7d4-32ca-4467-b852-3246db4adef0",
   "metadata": {},
   "outputs": [
    {
     "name": "stdin",
     "output_type": "stream",
     "text": [
      "Nhập vào một số thực:  1.10\n"
     ]
    },
    {
     "name": "stdout",
     "output_type": "stream",
     "text": [
      "Số nguyên tương ứng: 1\n"
     ]
    }
   ],
   "source": [
    "real_number = float(input(\"Nhập vào một số thực: \"))\n",
    "print(\"Số nguyên tương ứng:\", int(real_number))\n",
    "\n"
   ]
  },
  {
   "cell_type": "code",
   "execution_count": 9,
   "id": "5a207a7d-387f-43e9-b207-d20dbeda815b",
   "metadata": {},
   "outputs": [
    {
     "name": "stdin",
     "output_type": "stream",
     "text": [
      "Nhập một số nguyên:  1.11\n"
     ]
    },
    {
     "name": "stdout",
     "output_type": "stream",
     "text": [
      "Please enter a valid number.\n"
     ]
    }
   ],
   "source": [
    "# Kiểm tra đầu vào có phải số nguyên không\n",
    "\n",
    "try:\n",
    "    user_input = int(input(\"Nhập một số nguyên: \"))\n",
    "    print(\"Số hợp lệ:\", user_input)\n",
    "except ValueError:\n",
    "    print(\"Please enter a valid number.\")\n",
    "\n"
   ]
  },
  {
   "cell_type": "code",
   "execution_count": 10,
   "id": "5e0cbc93-d8fc-4bed-8541-fd7043c6546d",
   "metadata": {},
   "outputs": [
    {
     "name": "stdin",
     "output_type": "stream",
     "text": [
      "Nhập số cần kiểm tra:  7\n"
     ]
    },
    {
     "name": "stdout",
     "output_type": "stream",
     "text": [
      "Là số nguyên tố\n"
     ]
    }
   ],
   "source": [
    "def is_prime(n):\n",
    "    if n < 2:\n",
    "        return False\n",
    "    for i in range(2, int(n**0.5) + 1):\n",
    "        if n % i == 0:\n",
    "            return False\n",
    "    return True\n",
    "\n",
    "num = int(input(\"Nhập số cần kiểm tra: \"))\n",
    "print(\"Là số nguyên tố\" if is_prime(num) else \"Không phải số nguyên tố\")\n"
   ]
  },
  {
   "cell_type": "code",
   "execution_count": 11,
   "id": "1af0660c-9ca5-4b4e-b0c2-3126ea498996",
   "metadata": {},
   "outputs": [
    {
     "name": "stdout",
     "output_type": "stream",
     "text": [
      "Số phần tử trong danh sách: 5\n"
     ]
    }
   ],
   "source": [
    "numbers = [1, 2, 3, 4, 5]\n",
    "print(\"Số phần tử trong danh sách:\", len(numbers))"
   ]
  },
  {
   "cell_type": "code",
   "execution_count": 12,
   "id": "6a56ffe2-f292-4bbe-a3ca-86c157048ece",
   "metadata": {},
   "outputs": [
    {
     "name": "stdout",
     "output_type": "stream",
     "text": [
      "Giá trị lớn nhất: 5\n"
     ]
    }
   ],
   "source": [
    "print(\"Giá trị lớn nhất:\", max(numbers))"
   ]
  },
  {
   "cell_type": "code",
   "execution_count": 13,
   "id": "e6be124f-85ad-4327-a061-0da240fcd80c",
   "metadata": {},
   "outputs": [
    {
     "name": "stdout",
     "output_type": "stream",
     "text": [
      "Danh sách sau khi thêm: [1, 2, 3, 4, 5, 6]\n"
     ]
    }
   ],
   "source": [
    "numbers.append(6)\n",
    "print(\"Danh sách sau khi thêm:\", numbers)\n"
   ]
  },
  {
   "cell_type": "code",
   "execution_count": 14,
   "id": "14ff9a66-e55a-42a2-a0b7-1ce9e172f567",
   "metadata": {},
   "outputs": [
    {
     "name": "stdout",
     "output_type": "stream",
     "text": [
      "Tên thứ ba: Cường\n"
     ]
    }
   ],
   "source": [
    "names = [\"An\", \"Bình\", \"Cường\", \"Duy\", \"Em\"]\n",
    "print(\"Tên thứ ba:\", names[2])\n"
   ]
  },
  {
   "cell_type": "code",
   "execution_count": 15,
   "id": "0062a4e3-2b0d-444f-aea6-d2b395ebcfcf",
   "metadata": {},
   "outputs": [
    {
     "name": "stdout",
     "output_type": "stream",
     "text": [
      "Tên: Lan - Tuổi: 25\n"
     ]
    }
   ],
   "source": [
    "# Dictionary chứa tên và tuổi\n",
    "person = {\"name\": \"Lan\", \"age\": 25}\n",
    "print(\"Tên:\", person[\"name\"], \"- Tuổi:\", person[\"age\"])"
   ]
  },
  {
   "cell_type": "code",
   "execution_count": 16,
   "id": "bb82ac2e-ee4a-4074-b75a-4aa624ddc74f",
   "metadata": {},
   "outputs": [
    {
     "name": "stdout",
     "output_type": "stream",
     "text": [
      "Điểm của Cường: 10\n"
     ]
    }
   ],
   "source": [
    "# Dictionary tên học sinh và điểm\n",
    "students = {\"Hiếu\": 9, \"Hà\": 8, \"Cường\": 10}\n",
    "print(\"Điểm của Cường:\", students.get(\"Cường\", \"Không tìm thấy\"))\n"
   ]
  },
  {
   "cell_type": "code",
   "execution_count": 19,
   "id": "4ceb67e1-7b8f-47f7-b097-388ad965bd83",
   "metadata": {},
   "outputs": [
    {
     "name": "stdout",
     "output_type": "stream",
     "text": [
      "1\n",
      "2\n",
      "3\n",
      "4\n",
      "5\n",
      "6\n",
      "7\n",
      "8\n",
      "9\n",
      "10\n",
      "\n"
     ]
    }
   ],
   "source": [
    "# Vòng lặp for in ra số từ 1 đến 10\n",
    "for i in range(1, 11):\n",
    "    print(i)\n",
    "print()\n"
   ]
  },
  {
   "cell_type": "code",
   "execution_count": 20,
   "id": "159695ea-9faf-4d45-9fc3-04025792720a",
   "metadata": {},
   "outputs": [
    {
     "name": "stdout",
     "output_type": "stream",
     "text": [
      "0\n",
      "2\n",
      "4\n",
      "6\n",
      "8\n",
      "10\n",
      "12\n",
      "14\n",
      "16\n",
      "18\n",
      "20\n"
     ]
    }
   ],
   "source": [
    "#Vòng lặp while in số chẵn từ 0 đến 20\n",
    "n = 0\n",
    "while n <= 20:\n",
    "    print(n)\n",
    "    n += 2"
   ]
  },
  {
   "cell_type": "code",
   "execution_count": 26,
   "id": "19e7dc92-eef4-4167-8f45-992ade51c054",
   "metadata": {},
   "outputs": [
    {
     "name": "stdin",
     "output_type": "stream",
     "text": [
      "Nhap doan van ban:  The architecture of LeNet 5 contains 7 layers excluding the input layer. Here is a detailed breakdown of the LeNet-5 architecture:  1. Input Layer Input Size: 32x32 pixels. The input is larger than the largest character in the database, which is at most 20x20 pixels, centered in a 28x28 field. The larger input size ensures that distinctive features such as stroke endpoints or corners can appear in the center of the receptive field of the highest-level feature detectors. Normalization: Input pixel values are normalized such that the background (white) corresponds to a value of 0, and the foreground (black) corresponds to a value of 1. This normalization makes the mean input roughly 0 and the variance roughly 1, which accelerates the learning process. 2. Layer C1 (Convolutional Layer) Feature Maps: 6 feature maps. Connections: Each unit is connected to a 5x5 neighborhood in the input, producing 28x28 feature maps to prevent boundary effects. Parameters: 156 trainable parameters and 117,600 connections. 3. Layer S2 (Subsampling Layer) Feature Maps: 6 feature maps. Size: 14x14 (each unit connected to a 2x2 neighborhood in C1). Operation: Each unit adds four inputs, multiplies by a trainable coefficient, adds a bias, and applies a sigmoid function. Parameters: 12 trainable parameters and 5,880 connections. Partial Connectivity: C3 is not fully connected to S2, which limits the number of connections and breaks symmetry, forcing feature maps to learn different, complementary features.    4. Layer C3 (Convolutional Layer) Feature Maps: 16 feature maps. Connections: Each unit is connected to several 5x5 neighborhoods at identical locations in a subset of S2’s feature maps. Parameters and Connections: Connections are partially connected to force feature maps to learn different features, with 1,516 trainable parameters and 151,600 connections. 5. Layer S4 (Subsampling Layer) Feature Maps: 16 feature maps. Size: 7x7 (each unit connected to a 2x2 neighborhood in C3). Parameters: 32 trainable parameters and 2,744 connections. 6. Layer C5 (Convolutional Layer) Feature Maps: 120 feature maps. Size: 1x1 (each unit connected to a 5x5 neighborhood on all 16 of S4’s feature maps, effectively fully connected due to input size). Parameters: 48,000 trainable parameters and 48,000 connections. 7. Layer F6 (Fully Connected Layer) Units: 84 units. Connections: Each unit is fully connected to C5, resulting in 10,164 trainable parameters. Activation: Uses a scaled hyperbolic tangent function  f ( a ) = A tan ⁡ ( S a ) f(a)=Atan(Sa), where A = 1.7159 and S = 2/3 8. Output Layer In the output layer of LeNet, each class is represented by an Euclidean Radial Basis Function (RBF) unit. Here's how the output of each RBF unit  y i y  i ​  is computed:\n"
     ]
    },
    {
     "data": {
      "text/plain": [
       "\"the architecture of lenet 5 contains 7 layers excluding the input layer. here is a detailed breakdown of the lenet-5 architecture:  1. input layer input size: 32x32 pixels. the input is larger than the largest character in the database, which is at most 20x20 pixels, centered in a 28x28 field. the larger input size ensures that distinctive features such as stroke endpoints or corners can appear in the center of the receptive field of the highest-level feature detectors. normalization: input pixel values are normalized such that the background (white) corresponds to a value of 0, and the foreground (black) corresponds to a value of 1. this normalization makes the mean input roughly 0 and the variance roughly 1, which accelerates the learning process. 2. layer c1 (convolutional layer) feature maps: 6 feature maps. connections: each unit is connected to a 5x5 neighborhood in the input, producing 28x28 feature maps to prevent boundary effects. parameters: 156 trainable parameters and 117,600 connections. 3. layer s2 (subsampling layer) feature maps: 6 feature maps. size: 14x14 (each unit connected to a 2x2 neighborhood in c1). operation: each unit adds four inputs, multiplies by a trainable coefficient, adds a bias, and applies a sigmoid function. parameters: 12 trainable parameters and 5,880 connections. partial connectivity: c3 is not fully connected to s2, which limits the number of connections and breaks symmetry, forcing feature maps to learn different, complementary features.    4. layer c3 (convolutional layer) feature maps: 16 feature maps. connections: each unit is connected to several 5x5 neighborhoods at identical locations in a subset of s2’s feature maps. parameters and connections: connections are partially connected to force feature maps to learn different features, with 1,516 trainable parameters and 151,600 connections. 5. layer s4 (subsampling layer) feature maps: 16 feature maps. size: 7x7 (each unit connected to a 2x2 neighborhood in c3). parameters: 32 trainable parameters and 2,744 connections. 6. layer c5 (convolutional layer) feature maps: 120 feature maps. size: 1x1 (each unit connected to a 5x5 neighborhood on all 16 of s4’s feature maps, effectively fully connected due to input size). parameters: 48,000 trainable parameters and 48,000 connections. 7. layer f6 (fully connected layer) units: 84 units. connections: each unit is fully connected to c5, resulting in 10,164 trainable parameters. activation: uses a scaled hyperbolic tangent function  f ( a ) = a tan \\u2061 ( s a ) f(a)=atan(sa), where a = 1.7159 and s = 2/3 8. output layer in the output layer of lenet, each class is represented by an euclidean radial basis function (rbf) unit. here's how the output of each rbf unit  y i y  i \\u200b  is computed:\""
      ]
     },
     "execution_count": 26,
     "metadata": {},
     "output_type": "execute_result"
    }
   ],
   "source": [
    "# đếm từ\n",
    "string = input(\"Nhap doan van ban: \").lower()\n"
   ]
  },
  {
   "cell_type": "code",
   "execution_count": 30,
   "id": "82f9da27-12f0-43f0-9598-9b39cbefaca3",
   "metadata": {},
   "outputs": [
    {
     "name": "stdin",
     "output_type": "stream",
     "text": [
      "Nhập đoạn văn bản:  The architecture of LeNet 5 contains 7 layers excluding the input layer. Here is a detailed breakdown of the LeNet-5 architecture:  1. Input Layer Input Size: 32x32 pixels. The input is larger than the largest character in the database, which is at most 20x20 pixels, centered in a 28x28 field. The larger input size ensures that distinctive features such as stroke endpoints or corners can appear in the center of the receptive field of the highest-level feature detectors. Normalization: Input pixel values are normalized such that the background (white) corresponds to a value of 0, and the foreground (black) corresponds to a value of 1. This normalization makes the mean input roughly 0 and the variance roughly 1, which accelerates the learning process. 2. Layer C1 (Convolutional Layer) Feature Maps: 6 feature maps. Connections: Each unit is connected to a 5x5 neighborhood in the input, producing 28x28 feature maps to prevent boundary effects. Parameters: 156 trainable parameters and 117,600 connections. 3. Layer S2 (Subsampling Layer) Feature Maps: 6 feature maps. Size: 14x14 (each unit connected to a 2x2 neighborhood in C1). Operation: Each unit adds four inputs, multiplies by a trainable coefficient, adds a bias, and applies a sigmoid function. Parameters: 12 trainable parameters and 5,880 connections. Partial Connectivity: C3 is not fully connected to S2, which limits the number of connections and breaks symmetry, forcing feature maps to learn different, complementary features.    4. Layer C3 (Convolutional Layer) Feature Maps: 16 feature maps. Connections: Each unit is connected to several 5x5 neighborhoods at identical locations in a subset of S2’s feature maps. Parameters and Connections: Connections are partially connected to force feature maps to learn different features, with 1,516 trainable parameters and 151,600 connections. 5. Layer S4 (Subsampling Layer) Feature Maps: 16 feature maps. Size: 7x7 (each unit connected to a 2x2 neighborhood in C3). Parameters: 32 trainable parameters and 2,744 connections. 6. Layer C5 (Convolutional Layer) Feature Maps: 120 feature maps. Size: 1x1 (each unit connected to a 5x5 neighborhood on all 16 of S4’s feature maps, effectively fully connected due to input size). Parameters: 48,000 trainable parameters and 48,000 connections. 7. Layer F6 (Fully Connected Layer) Units: 84 units. Connections: Each unit is fully connected to C5, resulting in 10,164 trainable parameters. Activation: Uses a scaled hyperbolic tangent function  f ( a ) = A tan ⁡ ( S a ) f(a)=Atan(Sa), where A = 1.7159 and S = 2/3 8. Output Layer In the output layer of LeNet, each class is represented by an Euclidean Radial Basis Function (RBF) unit. Here's how the output of each RBF unit  y i y  i ​  is computed:\n",
      "n=  10\n"
     ]
    },
    {
     "name": "stdout",
     "output_type": "stream",
     "text": [
      "Top 10 từ xuất hiện nhiều nhất:\n",
      "the: 19\n",
      "a: 17\n",
      "layer: 16\n",
      "feature: 16\n",
      "maps: 15\n",
      "to: 14\n",
      "of: 11\n",
      "and: 11\n",
      "connections: 11\n",
      "parameters: 11\n"
     ]
    }
   ],
   "source": [
    "import string\n",
    "\n",
    "def word_count(text, n):\n",
    "    # Loai bo dau\n",
    "    clean_text = \"\"\n",
    "    for char in text:\n",
    "        if char not in string.punctuation:\n",
    "            clean_text += char\n",
    " \n",
    "    # Tach tu tu doan van\n",
    "    words = []\n",
    "    word = \"\"\n",
    "    for char in clean_text:\n",
    "        if char != \" \":\n",
    "            word += char\n",
    "        else:\n",
    "            if word:\n",
    "                words.append(word)\n",
    "                word = \"\"\n",
    "    if word:\n",
    "        words.append(word)\n",
    "    \n",
    "    # Tuan suat xuat hien tung tu\n",
    "    word_freq = {}\n",
    "    for word in words:\n",
    "        if word in word_freq:\n",
    "            word_freq[word] += 1\n",
    "        else:\n",
    "            word_freq[word] = 1\n",
    "    \n",
    "    # Sap xep\n",
    "    sorted_words = []\n",
    "    while word_freq:\n",
    "        max_word = \"\"\n",
    "        max_count = 0\n",
    "        for word, count in word_freq.items():\n",
    "            if count > max_count:\n",
    "                max_word = word\n",
    "                max_count = count\n",
    "        sorted_words.append((max_word, max_count))\n",
    "        del word_freq[max_word]\n",
    "    \n",
    "    # Hien thi\n",
    "    print(f\"{n} từ xuất hiện nhiều nhất:\")\n",
    "    for i in range(min(n, len(sorted_words))):\n",
    "        print(f\"{sorted_words[i][0]}: {sorted_words[i][1]}\")\n",
    "\n",
    "text = input(\"Nhập đoạn văn bản: \").lower()\n",
    "n = int(input(\"n= \"))\n",
    "word_count(text, n)\n"
   ]
  }
 ],
 "metadata": {
  "kernelspec": {
   "display_name": "Python 3 (ipykernel)",
   "language": "python",
   "name": "python3"
  },
  "language_info": {
   "codemirror_mode": {
    "name": "ipython",
    "version": 3
   },
   "file_extension": ".py",
   "mimetype": "text/x-python",
   "name": "python",
   "nbconvert_exporter": "python",
   "pygments_lexer": "ipython3",
   "version": "3.9.21"
  }
 },
 "nbformat": 4,
 "nbformat_minor": 5
}
