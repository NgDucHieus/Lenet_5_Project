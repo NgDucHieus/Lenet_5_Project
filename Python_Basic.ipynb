{
 "cells": [
  {
   "cell_type": "code",
   "execution_count": 5,
   "id": "09d044ca-3160-4561-ab4b-c68107cbbc5f",
   "metadata": {},
   "outputs": [
    {
     "name": "stdin",
     "output_type": "stream",
     "text": [
      "Nhập vào một số nguyên:  10\n"
     ]
    },
    {
     "name": "stdout",
     "output_type": "stream",
     "text": [
      "Số dương\n",
      "10\n"
     ]
    }
   ],
   "source": [
    "# Kiểm tra số nguyên âm, dương hoặc 0\n",
    "num = int(input(\"Nhập vào một số nguyên: \"))\n",
    "if num > 0:\n",
    "    print(\"Số dương\")\n",
    "elif num < 0:\n",
    "    print(\"Số âm\")\n",
    "else:\n",
    "    print(\"Số bằng 0\")\n",
    "print(num)\n"
   ]
  },
  {
   "cell_type": "code",
   "execution_count": 6,
   "id": "da312957-3933-49d7-adb8-6fa0bd9ebc12",
   "metadata": {},
   "outputs": [
    {
     "name": "stdin",
     "output_type": "stream",
     "text": [
      "Nhập tuổi:  10\n"
     ]
    },
    {
     "name": "stdout",
     "output_type": "stream",
     "text": [
      "Minor\n"
     ]
    }
   ],
   "source": [
    "\n",
    "age = int(input(\"Nhập tuổi: \"))\n",
    "print(\"Adult\" if age >= 18 else \"Minor\")\n"
   ]
  },
  {
   "cell_type": "code",
   "execution_count": 7,
   "id": "41fcd7d4-32ca-4467-b852-3246db4adef0",
   "metadata": {},
   "outputs": [
    {
     "name": "stdin",
     "output_type": "stream",
     "text": [
      "Nhập vào một số thực:  1.10\n"
     ]
    },
    {
     "name": "stdout",
     "output_type": "stream",
     "text": [
      "Số nguyên tương ứng: 1\n"
     ]
    }
   ],
   "source": [
    "real_number = float(input(\"Nhập vào một số thực: \"))\n",
    "print(\"Số nguyên tương ứng:\", int(real_number))\n",
    "\n"
   ]
  },
  {
   "cell_type": "code",
   "execution_count": 8,
   "id": "5a207a7d-387f-43e9-b207-d20dbeda815b",
   "metadata": {},
   "outputs": [
    {
     "name": "stdin",
     "output_type": "stream",
     "text": [
      "Nhập một số nguyên:  1.11\n"
     ]
    },
    {
     "name": "stdout",
     "output_type": "stream",
     "text": [
      "Please enter a valid number.\n"
     ]
    }
   ],
   "source": [
    "# Kiểm tra đầu vào có phải số nguyên không\n",
    "user_input = int(input(\"Nhập một số nguyên: \"))\n",
    "exception\n",
    "if user_input.isdigit() or (user_input.startswith('-') and user_input[1:].isdigit()):\n",
    "    print(\"Số hợp lệ:\", int(user_input))\n",
    "else:\n",
    "    print(\"Please enter a valid number.\")\n"
   ]
  },
  {
   "cell_type": "code",
   "execution_count": null,
   "id": "5e0cbc93-d8fc-4bed-8541-fd7043c6546d",
   "metadata": {},
   "outputs": [],
   "source": [
    "def is_prime(n):\n",
    "    if n < 2:\n",
    "        return False\n",
    "    for i in range(2, int(n**0.5) + 1):\n",
    "        if n % i == 0:\n",
    "            return False\n",
    "    return True\n",
    "\n",
    "num = int(input(\"Nhập số cần kiểm tra: \"))\n",
    "print(\"Là số nguyên tố\" if is_prime(num) else \"Không phải số nguyên tố\")\n"
   ]
  },
  {
   "cell_type": "code",
   "execution_count": null,
   "id": "1af0660c-9ca5-4b4e-b0c2-3126ea498996",
   "metadata": {},
   "outputs": [],
   "source": [
    "numbers = [1, 2, 3, 4, 5]\n",
    "print(\"Số phần tử trong danh sách:\", len(numbers))"
   ]
  },
  {
   "cell_type": "code",
   "execution_count": null,
   "id": "6a56ffe2-f292-4bbe-a3ca-86c157048ece",
   "metadata": {},
   "outputs": [],
   "source": [
    "print(\"Giá trị lớn nhất:\", max(numbers))"
   ]
  },
  {
   "cell_type": "code",
   "execution_count": null,
   "id": "e6be124f-85ad-4327-a061-0da240fcd80c",
   "metadata": {},
   "outputs": [],
   "source": [
    "numbers.append(6)\n",
    "print(\"Danh sách sau khi thêm:\", numbers)\n"
   ]
  },
  {
   "cell_type": "code",
   "execution_count": null,
   "id": "14ff9a66-e55a-42a2-a0b7-1ce9e172f567",
   "metadata": {},
   "outputs": [],
   "source": [
    "names = [\"An\", \"Bình\", \"Cường\", \"Duy\", \"Em\"]\n",
    "print(\"Tên thứ ba:\", names[2])\n"
   ]
  },
  {
   "cell_type": "code",
   "execution_count": null,
   "id": "0062a4e3-2b0d-444f-aea6-d2b395ebcfcf",
   "metadata": {},
   "outputs": [],
   "source": [
    "# Dictionary chứa tên và tuổi\n",
    "person = {\"name\": \"Lan\", \"age\": 25}\n",
    "print(\"Tên:\", person[\"name\"], \"- Tuổi:\", person[\"age\"])"
   ]
  },
  {
   "cell_type": "code",
   "execution_count": null,
   "id": "bb82ac2e-ee4a-4074-b75a-4aa624ddc74f",
   "metadata": {},
   "outputs": [],
   "source": [
    "# Dictionary tên học sinh và điểm\n",
    "students = {\"Hiếu\": 9, \"Hà\": 8, \"Cường\": 10}\n",
    "print(\"Điểm của Cường:\", students.get(\"Cường\", \"Không tìm thấy\"))\n"
   ]
  },
  {
   "cell_type": "code",
   "execution_count": null,
   "id": "4ceb67e1-7b8f-47f7-b097-388ad965bd83",
   "metadata": {},
   "outputs": [],
   "source": [
    "# Vòng lặp for in ra số từ 1 đến 10\n",
    "for i in range(1, 11):\n",
    "    print(i, end=' ')\n",
    "print()\n"
   ]
  },
  {
   "cell_type": "code",
   "execution_count": null,
   "id": "159695ea-9faf-4d45-9fc3-04025792720a",
   "metadata": {},
   "outputs": [],
   "source": [
    "#Vòng lặp while in số chẵn từ 0 đến 20\n",
    "n = 0\n",
    "while n <= 20:\n",
    "    print(n, end=' ')\n",
    "    n += 2"
   ]
  }
 ],
 "metadata": {
  "kernelspec": {
   "display_name": "Python 3 (ipykernel)",
   "language": "python",
   "name": "python3"
  },
  "language_info": {
   "codemirror_mode": {
    "name": "ipython",
    "version": 3
   },
   "file_extension": ".py",
   "mimetype": "text/x-python",
   "name": "python",
   "nbconvert_exporter": "python",
   "pygments_lexer": "ipython3",
   "version": "3.9.21"
  }
 },
 "nbformat": 4,
 "nbformat_minor": 5
}
