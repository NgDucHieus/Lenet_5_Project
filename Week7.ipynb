{
 "cells": [
  {
   "cell_type": "code",
   "execution_count": 1,
   "id": "ad34b687-6145-4aed-ac0f-6b7c89055400",
   "metadata": {},
   "outputs": [
    {
     "name": "stdout",
     "output_type": "stream",
     "text": [
      "[0, 1, 4, 9, 16]\n"
     ]
    }
   ],
   "source": [
    "\n",
    "arr = [x**2 for x in range(5)]\n",
    "print(arr)\n"
   ]
  },
  {
   "cell_type": "code",
   "execution_count": 2,
   "id": "8f6a03d6-5fba-48c1-9823-238db5265159",
   "metadata": {},
   "outputs": [
    {
     "name": "stdout",
     "output_type": "stream",
     "text": [
      "<generator object <genexpr> at 0x000002B5AE4D0EB0>\n"
     ]
    }
   ],
   "source": [
    "arrg = (x**2 for x in range(5))\n",
    "print(arrg)"
   ]
  },
  {
   "cell_type": "code",
   "execution_count": 3,
   "id": "e4205c0b-361e-4729-8060-805de2583709",
   "metadata": {},
   "outputs": [
    {
     "name": "stdout",
     "output_type": "stream",
     "text": [
      "0\n",
      "1\n",
      "4\n",
      "9\n",
      "16\n"
     ]
    }
   ],
   "source": [
    "for value in arrg:\n",
    "    print(value)"
   ]
  },
  {
   "cell_type": "code",
   "execution_count": 11,
   "id": "d22b7e3b-76b4-454e-952d-4c0d2f9c91dc",
   "metadata": {},
   "outputs": [],
   "source": [
    "g3 = (x for x in range(16) if x % 3 == 0)"
   ]
  },
  {
   "cell_type": "code",
   "execution_count": 13,
   "id": "566e69b6-dd5c-42fb-956b-fe8cd0747f0d",
   "metadata": {},
   "outputs": [],
   "source": [
    "# Sử dụng next() để lấy 2 giá trị đầu tiên\n",
    "g1 = next(g3)\n",
    "g = next(g3)\n"
   ]
  },
  {
   "cell_type": "code",
   "execution_count": 14,
   "id": "4e103e55-883d-4747-b53d-5a0260563b6d",
   "metadata": {},
   "outputs": [
    {
     "data": {
      "text/plain": [
       "6"
      ]
     },
     "execution_count": 14,
     "metadata": {},
     "output_type": "execute_result"
    }
   ],
   "source": [
    "g1"
   ]
  },
  {
   "cell_type": "code",
   "execution_count": 15,
   "id": "4b06e340-7ddb-4242-8847-7fb3f35325f3",
   "metadata": {},
   "outputs": [
    {
     "data": {
      "text/plain": [
       "9"
      ]
     },
     "execution_count": 15,
     "metadata": {},
     "output_type": "execute_result"
    }
   ],
   "source": [
    "g"
   ]
  },
  {
   "cell_type": "code",
   "execution_count": null,
   "id": "6acb4efe-d448-4a1c-a6bd-02d1a81affe8",
   "metadata": {},
   "outputs": [],
   "source": [
    "for g in g3:\n",
    "    print(g)"
   ]
  },
  {
   "cell_type": "code",
   "execution_count": null,
   "id": "4fa8a6b0-d57a-4025-94fa-ab37cb07d396",
   "metadata": {},
   "outputs": [],
   "source": []
  },
  {
   "cell_type": "code",
   "execution_count": null,
   "id": "6523b90c-36c8-4a2f-b762-1b626629fa3c",
   "metadata": {},
   "outputs": [],
   "source": []
  }
 ],
 "metadata": {
  "kernelspec": {
   "display_name": "python3_9",
   "language": "python",
   "name": "python3_9"
  },
  "language_info": {
   "codemirror_mode": {
    "name": "ipython",
    "version": 3
   },
   "file_extension": ".py",
   "mimetype": "text/x-python",
   "name": "python",
   "nbconvert_exporter": "python",
   "pygments_lexer": "ipython3",
   "version": "3.9.21"
  }
 },
 "nbformat": 4,
 "nbformat_minor": 5
}
